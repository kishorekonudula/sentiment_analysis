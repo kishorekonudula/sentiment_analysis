{
 "cells": [
  {
   "cell_type": "code",
   "execution_count": 1,
   "metadata": {},
   "outputs": [],
   "source": [
    "from bs4 import BeautifulSoup\n",
    "import bs4\n",
    "import requests\n",
    "\n",
    "import os\n",
    "\n",
    "import time\n",
    "\n",
    "import pandas as pd\n",
    "\n",
    "from datetime import datetime as dt\n",
    "\n",
    "import pprint "
   ]
  },
  {
   "cell_type": "code",
   "execution_count": 2,
   "metadata": {},
   "outputs": [],
   "source": [
    "# URL of the website \n",
    "glassdoor_url = \"https://www.glassdoor.com/Reviews/McDonald-s-Reviews-E432.htm\"\n",
    "#glassdoor_url = \"https://www.glassdoor.com/Reviews/McDonald-s-Reviews-E432_P2.htm\""
   ]
  },
  {
   "cell_type": "code",
   "execution_count": 3,
   "metadata": {},
   "outputs": [
    {
     "data": {
      "text/plain": [
       "200"
      ]
     },
     "execution_count": 3,
     "metadata": {},
     "output_type": "execute_result"
    }
   ],
   "source": [
    "page = requests.get(glassdoor_url, headers={'User-Agent': 'Mozilla/5.0'})\n",
    "page.status_code"
   ]
  },
  {
   "cell_type": "code",
   "execution_count": 4,
   "metadata": {},
   "outputs": [
    {
     "name": "stdout",
     "output_type": "stream",
     "text": [
      "Date:  Apr 2, 2018\n",
      "Summary: \"Manager\"\n",
      "Pros: Good Atmosphere, People were respectful to me and other employees\n",
      "Cons: Bad Food, Dirty kitchen sometimes\n",
      "----\n",
      "Date:  Apr 1, 2018\n",
      "Summary: \"You Get Out What You Put In\"\n",
      "Pros: A great entry level position, flexible scheduling is a huge perk.\n",
      "Cons: Can be rough to advance, but if you put your head down and work hard it happens.\n",
      "----\n",
      "Date:  Apr 1, 2018\n",
      "Summary: \"Part Time Cashier\"\n",
      "Pros: Decent starting pay and hours\n",
      "Cons: Not much room for advancement\n",
      "----\n",
      "Date:  Mar 31, 2018\n",
      "Summary: \"Good Job\"\n",
      "Pros: Good schedule flexibility and managers are well informed.\n",
      "Cons: You have to do a lot of standing, which is tiring.\n",
      "----\n",
      "Date:  Mar 31, 2018\n",
      "Summary: \"Crew member\"\n",
      "Pros: You Get To Meet New People Experience New Things Learn New Things And Build Your Learning And speed Skills .\n",
      "Cons: Sometimes the customers are grumpy and You Have To Deal With It\n",
      "----\n",
      "Date:  Mar 30, 2018\n",
      "Summary: \"A good job for students\"\n",
      "Pros: They were usually flexible with the schedule and are quick to promote you if your a good worker. Also you get half off the food before, after, or during your shift and most coworkers were friendly.\n",
      "Cons: Rude customers, having to work until 1 or 2 am towards the end of my experience working there because they were short staffed ( this was why I quit).\n",
      "----\n",
      "Date:  Mar 30, 2018\n",
      "Summary: \"Crew Trainer\"\n",
      "Pros: Staff is great and managers can be really nice and extremely helpful.\n",
      "Cons: Upper management can be very unresponsive to requests for availability changes in regards to school.\n",
      "----\n",
      "Date:  Mar 29, 2018\n",
      "Summary: \"looking for a job in computers\"\n",
      "Pros: fixing computers and downloading software on the computers\n",
      "Cons: not finding a job\n",
      "----\n",
      "Date:  Mar 29, 2018\n",
      "Summary: \"Great place to work\"\n",
      "Pros: Free food, customer service, salary\n",
      "Cons: Customers that are idiots and picky\n",
      "----\n",
      "Date:  Mar 29, 2018\n",
      "Summary: \"Life working at McDonald's\"\n",
      "Pros: Will work with you on a balance schedule and help through scholarships for school.\n",
      "Cons: Need to communicate and work together as a team.\n",
      "----\n"
     ]
    }
   ],
   "source": [
    "if page.status_code == 200:\n",
    "    soup = BeautifulSoup(page.content, \"html.parser\")\n",
    "    glassdoor_reviews = {}\n",
    "    soup_find_all = soup.find_all('div', class_='hreview')\n",
    "    for review, soup_item in enumerate(soup_find_all):\n",
    "        for child in soup_item:\n",
    "            if child.findChild('time', class_=\"date subtle small\"):\n",
    "                dt = child.findChild('time', class_=\"date subtle small\").text\n",
    "                print(\"Date:\", dt)\n",
    "            for ch in child:\n",
    "                if ch.findChild('span', class_=\"summary \"):\n",
    "                    summary = ch.findChild('span', class_=\"summary \").text\n",
    "                    print(\"Summary:\", summary)\n",
    "            for chch in ch:\n",
    "                if chch.findChild('p', class_=\" pros mainText truncateThis wrapToggleStr\"):\n",
    "                    pros = chch.findChild('p', class_=\" pros mainText truncateThis wrapToggleStr\").text\n",
    "                    print(\"Pros:\", pros)\n",
    "                if chch.findChild('p', class_=\" cons mainText truncateThis wrapToggleStr\"):\n",
    "                    cons = chch.findChild('p', class_=\" cons mainText truncateThis wrapToggleStr\").text\n",
    "                    print(\"Cons:\", cons)\n",
    "        print(\"----\")\n",
    "        review_dict = {\"Date\": dt,\n",
    "                      \"Summary\": summary,\n",
    "                      \"Pros\": pros,\n",
    "                      \"Cons\": cons} \n",
    "        glassdoor_reviews[review] = review_dict\n",
    "else:\n",
    "    print(\"Request Failed\")\n",
    "    \n"
   ]
  },
  {
   "cell_type": "code",
   "execution_count": 5,
   "metadata": {},
   "outputs": [
    {
     "name": "stdout",
     "output_type": "stream",
     "text": [
      "{   0: {   'Cons': 'Bad Food, Dirty kitchen sometimes',\n",
      "           'Date': ' Apr 2, 2018',\n",
      "           'Pros': 'Good Atmosphere, People were respectful to me and other '\n",
      "                   'employees',\n",
      "           'Summary': '\"Manager\"'},\n",
      "    1: {   'Cons': 'Can be rough to advance, but if you put your head down and '\n",
      "                   'work hard it happens.',\n",
      "           'Date': ' Apr 1, 2018',\n",
      "           'Pros': 'A great entry level position, flexible scheduling is a '\n",
      "                   'huge perk.',\n",
      "           'Summary': '\"You Get Out What You Put In\"'},\n",
      "    2: {   'Cons': 'Not much room for advancement',\n",
      "           'Date': ' Apr 1, 2018',\n",
      "           'Pros': 'Decent starting pay and hours',\n",
      "           'Summary': '\"Part Time Cashier\"'},\n",
      "    3: {   'Cons': 'You have to do a lot of standing, which is tiring.',\n",
      "           'Date': ' Mar 31, 2018',\n",
      "           'Pros': 'Good schedule flexibility and managers are well informed.',\n",
      "           'Summary': '\"Good Job\"'},\n",
      "    4: {   'Cons': 'Sometimes the customers are grumpy and You Have To Deal '\n",
      "                   'With It',\n",
      "           'Date': ' Mar 31, 2018',\n",
      "           'Pros': 'You Get To Meet New People Experience New Things Learn New '\n",
      "                   'Things And Build Your Learning And speed Skills .',\n",
      "           'Summary': '\"Crew member\"'},\n",
      "    5: {   'Cons': 'Rude customers, having to work until 1 or 2 am towards the '\n",
      "                   'end of my experience working there because they were short '\n",
      "                   'staffed ( this was why I quit).',\n",
      "           'Date': ' Mar 30, 2018',\n",
      "           'Pros': 'They were usually flexible with the schedule and are quick '\n",
      "                   'to promote you if your a good worker. Also you get half '\n",
      "                   'off the food before, after, or during your shift and most '\n",
      "                   'coworkers were friendly.',\n",
      "           'Summary': '\"A good job for students\"'},\n",
      "    6: {   'Cons': 'Upper management can be very unresponsive to requests for '\n",
      "                   'availability changes in regards to school.',\n",
      "           'Date': ' Mar 30, 2018',\n",
      "           'Pros': 'Staff is great and managers can be really nice and '\n",
      "                   'extremely helpful.',\n",
      "           'Summary': '\"Crew Trainer\"'},\n",
      "    7: {   'Cons': 'not finding a job',\n",
      "           'Date': ' Mar 29, 2018',\n",
      "           'Pros': 'fixing computers and downloading software on the computers',\n",
      "           'Summary': '\"looking for a job in computers\"'},\n",
      "    8: {   'Cons': 'Customers that are idiots and picky',\n",
      "           'Date': ' Mar 29, 2018',\n",
      "           'Pros': 'Free food, customer service, salary',\n",
      "           'Summary': '\"Great place to work\"'},\n",
      "    9: {   'Cons': 'Need to communicate and work together as a team.',\n",
      "           'Date': ' Mar 29, 2018',\n",
      "           'Pros': 'Will work with you on a balance schedule and help through '\n",
      "                   'scholarships for school.',\n",
      "           'Summary': '\"Life working at McDonald\\'s\"'}}\n"
     ]
    }
   ],
   "source": [
    "pp = pprint.PrettyPrinter(indent=4)\n",
    "pp.pprint(glassdoor_reviews)"
   ]
  },
  {
   "cell_type": "code",
   "execution_count": null,
   "metadata": {},
   "outputs": [],
   "source": []
  },
  {
   "cell_type": "code",
   "execution_count": null,
   "metadata": {},
   "outputs": [],
   "source": []
  }
 ],
 "metadata": {
  "kernelspec": {
   "display_name": "Python 3",
   "language": "python",
   "name": "python3"
  },
  "language_info": {
   "codemirror_mode": {
    "name": "ipython",
    "version": 3
   },
   "file_extension": ".py",
   "mimetype": "text/x-python",
   "name": "python",
   "nbconvert_exporter": "python",
   "pygments_lexer": "ipython3",
   "version": "3.6.4"
  }
 },
 "nbformat": 4,
 "nbformat_minor": 2
}
